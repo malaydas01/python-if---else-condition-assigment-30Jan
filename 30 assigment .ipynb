{
 "cells": [
  {
   "cell_type": "code",
   "execution_count": null,
   "id": "554a58a1-6d14-46dd-9ff6-59bd771e4567",
   "metadata": {},
   "outputs": [],
   "source": [
    "1. Write a program to accept percentage from the user and display the grade according to the following criteria:\n",
    "\n",
    "     Marks                           Grade\n",
    "      >90                              A\n",
    "    >80 and <=90                       B"
   ]
  },
  {
   "cell_type": "code",
   "execution_count": 14,
   "id": "d91be665-6876-4b14-aedc-7a6fd4535900",
   "metadata": {},
   "outputs": [
    {
     "name": "stdin",
     "output_type": "stream",
     "text": [
      "enter your msrks 60\n"
     ]
    },
    {
     "name": "stdout",
     "output_type": "stream",
     "text": [
      "you will be a part of grade c\n"
     ]
    }
   ],
   "source": [
    "marks = int(input(\"enter your msrks\"))\n",
    "if marks >= 90:\n",
    "    print(\"you will be a part of grade A\")\n",
    "elif marks > 80 and marks <=90:\n",
    "    print(\"you will be a part of grade B\")\n",
    "elif marks >= 60 and marks <= 60 :\n",
    "    print(\"you will be a part of grade c\")\n",
    "elif marks <= 60 :\n",
    "    print(\"you will be a part of grade D\")\n",
    "else:\n",
    "    print(\"you are fail\")"
   ]
  },
  {
   "cell_type": "code",
   "execution_count": null,
   "id": "1c23f371-efc3-4640-bae0-f05c338c6415",
   "metadata": {},
   "outputs": [],
   "source": [
    "2. Write a program to accept the cost price of a bike and display the road tax to be paid according to the following criteria :\n",
    "     Tax                                  Cost Price(in Rs)\n",
    "     15%                                         >100000\n",
    "     10%                                   >50000 and <= 100000\n",
    "     5%                                           < = 50000"
   ]
  },
  {
   "cell_type": "code",
   "execution_count": 5,
   "id": "d076bd99-a0b6-4f90-a414-69654e39a2be",
   "metadata": {},
   "outputs": [
    {
     "name": "stdin",
     "output_type": "stream",
     "text": [
      "enter the cost price of the bike in Rs:  50000\n"
     ]
    },
    {
     "name": "stdout",
     "output_type": "stream",
     "text": [
      "The road tex to be paid is Rs 2500.0\n"
     ]
    }
   ],
   "source": [
    "cost_price = int(input(\"enter the cost price of the bike in Rs: \"))\n",
    "\n",
    "if cost_price > 100000:\n",
    "    road_tex = cost_price*0.15\n",
    "elif cost_price > 50000 and cost_price <= 100000:\n",
    "    road_tex = cost_price*0.1\n",
    "else:\n",
    "    road_tex = cost_price*0.05\n",
    "    \n",
    "    print(\"The road tex to be paid is Rs\", road_tex)"
   ]
  },
  {
   "cell_type": "code",
   "execution_count": null,
   "id": "69c43ae2-2661-4a69-ae65-0854b7c8a36e",
   "metadata": {},
   "outputs": [],
   "source": [
    "3. Accept any city from the user and display monuments of that city.\n",
    "    City                                           Monument\n",
    "    Delhi                                          Red Fort\n",
    "    Agra                                           Taj Mahal\n",
    "    Jaipur                                         Jal Mahal"
   ]
  },
  {
   "cell_type": "code",
   "execution_count": 6,
   "id": "d79a653c-3e98-42b7-856a-85705c0df458",
   "metadata": {},
   "outputs": [
    {
     "name": "stdin",
     "output_type": "stream",
     "text": [
      "Enter a city:  Delhi\n"
     ]
    },
    {
     "name": "stdout",
     "output_type": "stream",
     "text": [
      "The monuments of Delhi are: Red Fort\n"
     ]
    }
   ],
   "source": [
    "monuments = {\n",
    "    \"Delhi\": \"Red Fort\",\n",
    "    \"Agra\": \"Taj Mahal\",\n",
    "    \"Jaipur\": \"Jai Mahal\"\n",
    "}\n",
    "\n",
    "city = input(\"Enter a city: \")\n",
    "\n",
    "if city in monuments:\n",
    "    print(f\"The monuments of {city} are: {monuments[city]}\")\n",
    "else:\n",
    "    print(\"Sorry, we don't have information about monuments in that city.\")\n"
   ]
  },
  {
   "cell_type": "code",
   "execution_count": null,
   "id": "1c453fc3-93d9-4dfc-bf4b-d9be6fa0cb58",
   "metadata": {},
   "outputs": [],
   "source": [
    "4. Check how many times a gives number can be divided by 3 before it is less than or equal to 10."
   ]
  },
  {
   "cell_type": "code",
   "execution_count": 8,
   "id": "5b1af407-77d6-4c8a-a1ca-41735f005983",
   "metadata": {},
   "outputs": [
    {
     "name": "stdin",
     "output_type": "stream",
     "text": [
      "Enter a number:  10\n",
      "Enter a divisor:  2\n"
     ]
    },
    {
     "name": "stdout",
     "output_type": "stream",
     "text": [
      "The number can be divided by 2 3 times before it is less than or equal to 2.\n"
     ]
    }
   ],
   "source": [
    "number = int(input(\"Enter a number: \"))\n",
    "divisor = int(input(\"Enter a divisor: \"))\n",
    "\n",
    "count = 0\n",
    "while number > divisor:\n",
    "    number = number / divisor\n",
    "    count += 1\n",
    "\n",
    "print(f\"The number can be divided by {divisor} {count} times before it is less than or equal to {divisor}.\")\n"
   ]
  },
  {
   "cell_type": "code",
   "execution_count": null,
   "id": "4afbb3a3-3943-4aef-a59b-989ce4e80e34",
   "metadata": {},
   "outputs": [],
   "source": [
    "5. why and when to use while loop in python give  a detailed description with example"
   ]
  },
  {
   "cell_type": "code",
   "execution_count": null,
   "id": "b9b94530-da97-460b-b27f-4fd49e862baf",
   "metadata": {},
   "outputs": [],
   "source": [
    "In Python, a while loop is used to repeatedly execute a block of code as long as a certain condition is met. The while loop executes the block of code as long as the condition remains true. Once the condition is false, the loop terminates and the code after the loop is executed.\n",
    "\n",
    "In Python, a while loop is used to repeatedly execute a block of code as long as a certain condition is met. The while loop executes the block of code as long as the condition remains true. Once the condition is false, the loop terminates and the code after the loop is executed.\n",
    "\n",
    "while condition:\n",
    "    # Code block to be executed as long as condition is true\n",
    "\n"
   ]
  },
  {
   "cell_type": "code",
   "execution_count": null,
   "id": "182d48dc-7bc9-43ff-92d0-6abf0bf4dc23",
   "metadata": {},
   "outputs": [],
   "source": [
    "i = 1\n",
    "while i <= 10:\n",
    "    print(i)\n",
    "    i += 1\n"
   ]
  },
  {
   "cell_type": "code",
   "execution_count": null,
   "id": "df11f97a-d2ff-4879-a814-7f506438e64f",
   "metadata": {},
   "outputs": [],
   "source": [
    "6. Use nested While Loop to print 3 different pattern."
   ]
  },
  {
   "cell_type": "code",
   "execution_count": 4,
   "id": "21618e39-8fe1-4bc8-8d6a-43c5d4a0f69c",
   "metadata": {},
   "outputs": [
    {
     "ename": "SyntaxError",
     "evalue": "invalid syntax (1458325142.py, line 1)",
     "output_type": "error",
     "traceback": [
      "\u001b[0;36m  Cell \u001b[0;32mIn[4], line 1\u001b[0;36m\u001b[0m\n\u001b[0;31m    *\u001b[0m\n\u001b[0m     ^\u001b[0m\n\u001b[0;31mSyntaxError\u001b[0m\u001b[0;31m:\u001b[0m invalid syntax\n"
     ]
    }
   ],
   "source": [
    "*\n",
    "**\n",
    "***\n",
    "****\n",
    "*****\n"
   ]
  },
  {
   "cell_type": "code",
   "execution_count": 5,
   "id": "cb76670a-e27e-436f-a8fa-6ff6a0280ad9",
   "metadata": {},
   "outputs": [
    {
     "name": "stdout",
     "output_type": "stream",
     "text": [
      "*\n",
      "**\n",
      "***\n",
      "****\n",
      "*****\n"
     ]
    }
   ],
   "source": [
    "i = 1\n",
    "while i <= 5:\n",
    "    j = 1\n",
    "    while j <= i:\n",
    "        print('*', end='')\n",
    "        j += 1\n",
    "    print()\n",
    "    i += 1\n"
   ]
  },
  {
   "cell_type": "code",
   "execution_count": 6,
   "id": "ff9c5c62-5f83-462d-b2dd-e5ba9e608ed4",
   "metadata": {},
   "outputs": [
    {
     "ename": "SyntaxError",
     "evalue": "invalid syntax (3837906334.py, line 1)",
     "output_type": "error",
     "traceback": [
      "\u001b[0;36m  Cell \u001b[0;32mIn[6], line 1\u001b[0;36m\u001b[0m\n\u001b[0;31m    *****\u001b[0m\n\u001b[0m    ^\u001b[0m\n\u001b[0;31mSyntaxError\u001b[0m\u001b[0;31m:\u001b[0m invalid syntax\n"
     ]
    }
   ],
   "source": [
    "*****\n",
    "****\n",
    "***\n",
    "**\n",
    "*\n"
   ]
  },
  {
   "cell_type": "code",
   "execution_count": 7,
   "id": "9485489e-0914-4322-855f-cd4c1c8ab87a",
   "metadata": {},
   "outputs": [
    {
     "name": "stdout",
     "output_type": "stream",
     "text": [
      "*****\n",
      "****\n",
      "***\n",
      "**\n",
      "*\n"
     ]
    }
   ],
   "source": [
    "i = 5\n",
    "while i >= 1:\n",
    "    j = 1\n",
    "    while j <= i:\n",
    "        print('*', end='')\n",
    "        j += 1\n",
    "    print()\n",
    "    i -= 1\n"
   ]
  },
  {
   "cell_type": "code",
   "execution_count": 9,
   "id": "27de396d-a436-4f03-8266-fd02954cbc9a",
   "metadata": {},
   "outputs": [
    {
     "ename": "IndentationError",
     "evalue": "unindent does not match any outer indentation level (<tokenize>, line 3)",
     "output_type": "error",
     "traceback": [
      "\u001b[0;36m  File \u001b[0;32m<tokenize>:3\u001b[0;36m\u001b[0m\n\u001b[0;31m    ***\u001b[0m\n\u001b[0m    ^\u001b[0m\n\u001b[0;31mIndentationError\u001b[0m\u001b[0;31m:\u001b[0m unindent does not match any outer indentation level\n"
     ]
    }
   ],
   "source": [
    "    *\n",
    "   **\n",
    "  ***\n",
    " ****\n",
    "*****\n"
   ]
  },
  {
   "cell_type": "code",
   "execution_count": 10,
   "id": "acdc7d28-1c22-422f-bbda-1c9eeee75e16",
   "metadata": {},
   "outputs": [
    {
     "name": "stdout",
     "output_type": "stream",
     "text": [
      "    *\n",
      "   **\n",
      "  ***\n",
      " ****\n",
      "*****\n"
     ]
    }
   ],
   "source": [
    "i = 1\n",
    "while i <= 5:\n",
    "    j = 5\n",
    "    while j >= 1:\n",
    "        if j > i:\n",
    "            print(' ', end='')\n",
    "        else:\n",
    "            print('*', end='')\n",
    "        j -= 1\n",
    "    print()\n",
    "    i += 1\n"
   ]
  },
  {
   "cell_type": "code",
   "execution_count": null,
   "id": "28d653df-7b88-4d60-a690-c27276b67fca",
   "metadata": {},
   "outputs": [],
   "source": [
    "7. Reverse a While loop to display number from 10 to 1"
   ]
  },
  {
   "cell_type": "code",
   "execution_count": 11,
   "id": "eb4da792-9fc7-4a9d-aaf7-4cb62c3b7272",
   "metadata": {},
   "outputs": [
    {
     "name": "stdout",
     "output_type": "stream",
     "text": [
      "10\n",
      "9\n",
      "8\n",
      "7\n",
      "6\n",
      "5\n",
      "4\n",
      "3\n",
      "2\n",
      "1\n"
     ]
    }
   ],
   "source": [
    "i = 10\n",
    "while i >= 1:\n",
    "    print(i)\n",
    "    i -= 1"
   ]
  }
 ],
 "metadata": {
  "kernelspec": {
   "display_name": "Python 3 (ipykernel)",
   "language": "python",
   "name": "python3"
  },
  "language_info": {
   "codemirror_mode": {
    "name": "ipython",
    "version": 3
   },
   "file_extension": ".py",
   "mimetype": "text/x-python",
   "name": "python",
   "nbconvert_exporter": "python",
   "pygments_lexer": "ipython3",
   "version": "3.10.8"
  }
 },
 "nbformat": 4,
 "nbformat_minor": 5
}
